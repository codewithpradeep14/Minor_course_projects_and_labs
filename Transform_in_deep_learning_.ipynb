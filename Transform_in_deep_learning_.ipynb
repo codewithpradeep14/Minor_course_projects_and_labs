{
  "nbformat": 4,
  "nbformat_minor": 0,
  "metadata": {
    "colab": {
      "provenance": [],
      "authorship_tag": "ABX9TyMdXqVce03P4CeMbSsqvNUQ",
      "include_colab_link": true
    },
    "kernelspec": {
      "name": "python3",
      "display_name": "Python 3"
    },
    "language_info": {
      "name": "python"
    }
  },
  "cells": [
    {
      "cell_type": "markdown",
      "metadata": {
        "id": "view-in-github",
        "colab_type": "text"
      },
      "source": [
        "<a href=\"https://colab.research.google.com/github/codewithpradeep14/Minor_course_projects_and_labs/blob/main/Transform_in_deep_learning_.ipynb\" target=\"_parent\"><img src=\"https://colab.research.google.com/assets/colab-badge.svg\" alt=\"Open In Colab\"/></a>"
      ]
    },
    {
      "cell_type": "markdown",
      "source": [
        "# **TRANSFORM IN DEEP LEARNING**\n",
        "\n"
      ],
      "metadata": {
        "id": "52OAx6k2a13W"
      }
    },
    {
      "cell_type": "code",
      "source": [
        "import torch\n",
        "import torch.nn as nn\n",
        "import torch.optim as optim\n",
        "from torch.utils.data import DataLoader, Dataset, TensorDataset\n",
        "import numpy as np\n",
        "\n",
        "# 1. Create a synthetic dataset\n",
        "class SimpleDataset(Dataset):\n",
        "    def __init__(self, n_samples=1000):\n",
        "        np.random.seed(42)\n",
        "        self.x = np.random.rand(n_samples, 2)\n",
        "        self.y = (self.x[:, 0] + self.x[:, 1] > 1).astype(int)\n",
        "        self.x = torch.tensor(self.x, dtype=torch.float32)\n",
        "        self.y = torch.tensor(self.y, dtype=torch.float32).unsqueeze(1)\n",
        "\n",
        "    def __len__(self):\n",
        "        return len(self.x)\n",
        "\n",
        "    def __getitem__(self, idx):\n",
        "        return self.x[idx], self.y[idx]\n",
        "\n",
        "dataset = SimpleDataset()\n",
        "train_loader = DataLoader(dataset, batch_size=32, shuffle=True)\n",
        "\n",
        "# 2. Define the neural network\n",
        "class SimpleNN(nn.Module):\n",
        "    def __init__(self):\n",
        "        super(SimpleNN, self).__init__()\n",
        "        self.fc1 = nn.Linear(2, 10)\n",
        "        self.fc2 = nn.Linear(10, 1)\n",
        "        self.sigmoid = nn.Sigmoid()\n",
        "\n",
        "    def forward(self, x):\n",
        "        x = torch.relu(self.fc1(x))\n",
        "        x = self.fc2(x)\n",
        "        x = self.sigmoid(x)\n",
        "        return x\n",
        "\n",
        "model = SimpleNN()\n",
        "\n",
        "# 3. Define loss and optimizer\n",
        "criterion = nn.BCELoss()\n",
        "optimizer = optim.SGD(model.parameters(), lr=0.01)\n",
        "\n",
        "# 4. Train the model\n",
        "num_epochs = 20\n",
        "for epoch in range(num_epochs):\n",
        "    for inputs, labels in train_loader:\n",
        "        outputs = model(inputs)\n",
        "        loss = criterion(outputs, labels)\n",
        "\n",
        "        optimizer.zero_grad()\n",
        "        loss.backward()\n",
        "        optimizer.step()\n",
        "\n",
        "    print(f'Epoch {epoch+1}/{num_epochs}, Loss: {loss.item()}')\n",
        "\n",
        "# 5. Evaluate the model\n",
        "with torch.no_grad():\n",
        "    correct = 0\n",
        "    total = 0\n",
        "    for inputs, labels in train_loader:\n",
        "        outputs = model(inputs)\n",
        "        predicted = (outputs > 0.5).float()\n",
        "        total += labels.size(0)\n",
        "        correct += (predicted == labels).sum().item()\n",
        "\n",
        "    print(f'Accuracy: {correct / total * 100:.2f}%')\n"
      ],
      "metadata": {
        "colab": {
          "base_uri": "https://localhost:8080/"
        },
        "id": "77-FoVfbjFuo",
        "outputId": "89449333-140f-41c4-828f-2434a1293997"
      },
      "execution_count": 18,
      "outputs": [
        {
          "output_type": "stream",
          "name": "stdout",
          "text": [
            "Epoch 1/20, Loss: 0.7276702523231506\n",
            "Epoch 2/20, Loss: 0.8608247637748718\n",
            "Epoch 3/20, Loss: 0.6723091006278992\n",
            "Epoch 4/20, Loss: 0.7533222436904907\n",
            "Epoch 5/20, Loss: 0.8085422515869141\n",
            "Epoch 6/20, Loss: 0.633091926574707\n",
            "Epoch 7/20, Loss: 0.7287722229957581\n",
            "Epoch 8/20, Loss: 0.6906371712684631\n",
            "Epoch 9/20, Loss: 0.7387027740478516\n",
            "Epoch 10/20, Loss: 0.6305661797523499\n",
            "Epoch 11/20, Loss: 0.6744519472122192\n",
            "Epoch 12/20, Loss: 0.6517414450645447\n",
            "Epoch 13/20, Loss: 0.6812211871147156\n",
            "Epoch 14/20, Loss: 0.7115586400032043\n",
            "Epoch 15/20, Loss: 0.6390545964241028\n",
            "Epoch 16/20, Loss: 0.6368282437324524\n",
            "Epoch 17/20, Loss: 0.7014487981796265\n",
            "Epoch 18/20, Loss: 0.6191717386245728\n",
            "Epoch 19/20, Loss: 0.5826048254966736\n",
            "Epoch 20/20, Loss: 0.6348104476928711\n",
            "Accuracy: 61.40%\n"
          ]
        }
      ]
    }
  ]
}